{
 "cells": [
  {
   "cell_type": "code",
   "execution_count": 1,
   "metadata": {},
   "outputs": [],
   "source": [
    "import os\n",
    "notebook_dir = os.getcwd() \n",
    "import sys\n",
    "\n",
    "loc = os.path.abspath(os.path.join(notebook_dir, '..', '..', 'src'))\n",
    "sys.path.append(loc)\n",
    "\n",
    "\n",
    "import time\n",
    "\n",
    "import torch\n",
    "from gnm import *\n",
    "from gnm import defaults, utils, evaluation, fitting, generative_rules, weight_criteria"
   ]
  },
  {
   "cell_type": "code",
   "execution_count": 10,
   "metadata": {},
   "outputs": [],
   "source": [
    "DEVICE = torch.device(\"cuda:0\" if torch.cuda.is_available() else \"cpu\")"
   ]
  },
  {
   "cell_type": "markdown",
   "metadata": {},
   "source": [
    "# Performing sweeps\n",
    "\n",
    "In this example notebook, we use the gnm package to perform a sweep over generative rules and parameter values."
   ]
  },
  {
   "cell_type": "markdown",
   "metadata": {},
   "source": [
    "## Loading in data\n",
    "\n",
    "We'll start by loading in some data for our sweep. In particular, we'll need:\n",
    "1. A distance matrix\n",
    "2. A binary network to compare our networks to\n",
    "\n",
    "We'll get these from the defaults sub-module, which has a built in distance matrix and consensus network."
   ]
  },
  {
   "cell_type": "code",
   "execution_count": 14,
   "metadata": {},
   "outputs": [],
   "source": [
    "distance_matrix = defaults.get_distance_matrix(device=DEVICE)\n",
    "binary_consensus_network = defaults.get_binary_network(device=DEVICE)\n"
   ]
  },
  {
   "cell_type": "markdown",
   "metadata": {},
   "source": [
    "We'll run the models until they have the same number of connections as the real binary consensus network"
   ]
  },
  {
   "cell_type": "code",
   "execution_count": 15,
   "metadata": {},
   "outputs": [
    {
     "name": "stdout",
     "output_type": "stream",
     "text": [
      "The binary consensus network contains 400 connections.\n"
     ]
    }
   ],
   "source": [
    "num_connections = int( binary_consensus_network.sum().item() / 2 )\n",
    "print(f\"The binary consensus network contains {num_connections} connections.\")"
   ]
  },
  {
   "cell_type": "markdown",
   "metadata": {},
   "source": [
    "## Defining our sweep\n",
    "\n",
    "The next step is to define the parameters we want to sweep over. Here, we'll sweep over a range of values for $\\eta$ and $\\gamma$, while keeping the generative rule fixed (using the Matching Index) and the weight optimisation criterion fixed (using the distance weighted communicability).   \n",
    "\n",
    "For each set of parameters, we'll generate 100 networks using the model with that set of parameters. This means setting the number of simulations to 100. "
   ]
  },
  {
   "cell_type": "code",
   "execution_count": null,
   "metadata": {},
   "outputs": [
    {
     "name": "stdout",
     "output_type": "stream",
     "text": [
      "RunConfig(binary_parameters=BinaryGenerativeParameters(eta=tensor(-5.), gamma=tensor(-0.5000), lambdah=tensor(0.), distance_relationship_type='powerlaw', preferential_relationship_type='powerlaw', heterochronicity_relationship_type='powerlaw', generative_rule=<gnm.generative_rules.generative_rules.MatchingIndex object at 0x0000016FCC540640>, num_iterations=400, prob_offset=1e-06, binary_updates_per_iteration=1), num_simulations=100, seed_adjacency_matrix=None, distance_matrix=tensor([[0.0000, 0.5303, 0.3052,  ..., 0.7891, 0.5180, 0.7986],\n",
      "        [0.5303, 0.0000, 0.4924,  ..., 0.5788, 0.7938, 0.5220],\n",
      "        [0.3052, 0.4924, 0.0000,  ..., 0.6583, 0.6355, 0.7755],\n",
      "        ...,\n",
      "        [0.7891, 0.5788, 0.6583,  ..., 0.0000, 0.6861, 0.3155],\n",
      "        [0.5180, 0.7938, 0.6355,  ..., 0.6861, 0.0000, 0.6856],\n",
      "        [0.7986, 0.5220, 0.7755,  ..., 0.3155, 0.6856, 0.0000]],\n",
      "       device='cuda:0'), weighted_parameters=WeightedGenerativeParameters(alpha=0.01, optimisation_criterion=<gnm.weight_criteria.optimisation_criteria.DistanceWeightedCommunicability object at 0x0000017058720FA0>, weight_lower_bound=0.0, weight_upper_bound=inf, maximise_criterion=False, weight_updates_per_iteration=1), seed_weight_matrix=None, heterochronous_matrix=None)\n",
      "RunConfig(binary_parameters=BinaryGenerativeParameters(eta=tensor(-5.), gamma=tensor(0.), lambdah=tensor(0.), distance_relationship_type='powerlaw', preferential_relationship_type='powerlaw', heterochronicity_relationship_type='powerlaw', generative_rule=<gnm.generative_rules.generative_rules.MatchingIndex object at 0x0000016FCC540640>, num_iterations=400, prob_offset=1e-06, binary_updates_per_iteration=1), num_simulations=100, seed_adjacency_matrix=None, distance_matrix=tensor([[0.0000, 0.5303, 0.3052,  ..., 0.7891, 0.5180, 0.7986],\n",
      "        [0.5303, 0.0000, 0.4924,  ..., 0.5788, 0.7938, 0.5220],\n",
      "        [0.3052, 0.4924, 0.0000,  ..., 0.6583, 0.6355, 0.7755],\n",
      "        ...,\n",
      "        [0.7891, 0.5788, 0.6583,  ..., 0.0000, 0.6861, 0.3155],\n",
      "        [0.5180, 0.7938, 0.6355,  ..., 0.6861, 0.0000, 0.6856],\n",
      "        [0.7986, 0.5220, 0.7755,  ..., 0.3155, 0.6856, 0.0000]],\n",
      "       device='cuda:0'), weighted_parameters=WeightedGenerativeParameters(alpha=0.01, optimisation_criterion=<gnm.weight_criteria.optimisation_criteria.DistanceWeightedCommunicability object at 0x0000017058720FA0>, weight_lower_bound=0.0, weight_upper_bound=inf, maximise_criterion=False, weight_updates_per_iteration=1), seed_weight_matrix=None, heterochronous_matrix=None)\n",
      "RunConfig(binary_parameters=BinaryGenerativeParameters(eta=tensor(-5.), gamma=tensor(0.5000), lambdah=tensor(0.), distance_relationship_type='powerlaw', preferential_relationship_type='powerlaw', heterochronicity_relationship_type='powerlaw', generative_rule=<gnm.generative_rules.generative_rules.MatchingIndex object at 0x0000016FCC540640>, num_iterations=400, prob_offset=1e-06, binary_updates_per_iteration=1), num_simulations=100, seed_adjacency_matrix=None, distance_matrix=tensor([[0.0000, 0.5303, 0.3052,  ..., 0.7891, 0.5180, 0.7986],\n",
      "        [0.5303, 0.0000, 0.4924,  ..., 0.5788, 0.7938, 0.5220],\n",
      "        [0.3052, 0.4924, 0.0000,  ..., 0.6583, 0.6355, 0.7755],\n",
      "        ...,\n",
      "        [0.7891, 0.5788, 0.6583,  ..., 0.0000, 0.6861, 0.3155],\n",
      "        [0.5180, 0.7938, 0.6355,  ..., 0.6861, 0.0000, 0.6856],\n",
      "        [0.7986, 0.5220, 0.7755,  ..., 0.3155, 0.6856, 0.0000]],\n",
      "       device='cuda:0'), weighted_parameters=WeightedGenerativeParameters(alpha=0.01, optimisation_criterion=<gnm.weight_criteria.optimisation_criteria.DistanceWeightedCommunicability object at 0x0000017058720FA0>, weight_lower_bound=0.0, weight_upper_bound=inf, maximise_criterion=False, weight_updates_per_iteration=1), seed_weight_matrix=None, heterochronous_matrix=None)\n",
      "RunConfig(binary_parameters=BinaryGenerativeParameters(eta=tensor(-3.), gamma=tensor(-0.5000), lambdah=tensor(0.), distance_relationship_type='powerlaw', preferential_relationship_type='powerlaw', heterochronicity_relationship_type='powerlaw', generative_rule=<gnm.generative_rules.generative_rules.MatchingIndex object at 0x0000016FCC540640>, num_iterations=400, prob_offset=1e-06, binary_updates_per_iteration=1), num_simulations=100, seed_adjacency_matrix=None, distance_matrix=tensor([[0.0000, 0.5303, 0.3052,  ..., 0.7891, 0.5180, 0.7986],\n",
      "        [0.5303, 0.0000, 0.4924,  ..., 0.5788, 0.7938, 0.5220],\n",
      "        [0.3052, 0.4924, 0.0000,  ..., 0.6583, 0.6355, 0.7755],\n",
      "        ...,\n",
      "        [0.7891, 0.5788, 0.6583,  ..., 0.0000, 0.6861, 0.3155],\n",
      "        [0.5180, 0.7938, 0.6355,  ..., 0.6861, 0.0000, 0.6856],\n",
      "        [0.7986, 0.5220, 0.7755,  ..., 0.3155, 0.6856, 0.0000]],\n",
      "       device='cuda:0'), weighted_parameters=WeightedGenerativeParameters(alpha=0.01, optimisation_criterion=<gnm.weight_criteria.optimisation_criteria.DistanceWeightedCommunicability object at 0x0000017058720FA0>, weight_lower_bound=0.0, weight_upper_bound=inf, maximise_criterion=False, weight_updates_per_iteration=1), seed_weight_matrix=None, heterochronous_matrix=None)\n",
      "RunConfig(binary_parameters=BinaryGenerativeParameters(eta=tensor(-3.), gamma=tensor(0.), lambdah=tensor(0.), distance_relationship_type='powerlaw', preferential_relationship_type='powerlaw', heterochronicity_relationship_type='powerlaw', generative_rule=<gnm.generative_rules.generative_rules.MatchingIndex object at 0x0000016FCC540640>, num_iterations=400, prob_offset=1e-06, binary_updates_per_iteration=1), num_simulations=100, seed_adjacency_matrix=None, distance_matrix=tensor([[0.0000, 0.5303, 0.3052,  ..., 0.7891, 0.5180, 0.7986],\n",
      "        [0.5303, 0.0000, 0.4924,  ..., 0.5788, 0.7938, 0.5220],\n",
      "        [0.3052, 0.4924, 0.0000,  ..., 0.6583, 0.6355, 0.7755],\n",
      "        ...,\n",
      "        [0.7891, 0.5788, 0.6583,  ..., 0.0000, 0.6861, 0.3155],\n",
      "        [0.5180, 0.7938, 0.6355,  ..., 0.6861, 0.0000, 0.6856],\n",
      "        [0.7986, 0.5220, 0.7755,  ..., 0.3155, 0.6856, 0.0000]],\n",
      "       device='cuda:0'), weighted_parameters=WeightedGenerativeParameters(alpha=0.01, optimisation_criterion=<gnm.weight_criteria.optimisation_criteria.DistanceWeightedCommunicability object at 0x0000017058720FA0>, weight_lower_bound=0.0, weight_upper_bound=inf, maximise_criterion=False, weight_updates_per_iteration=1), seed_weight_matrix=None, heterochronous_matrix=None)\n",
      "RunConfig(binary_parameters=BinaryGenerativeParameters(eta=tensor(-3.), gamma=tensor(0.5000), lambdah=tensor(0.), distance_relationship_type='powerlaw', preferential_relationship_type='powerlaw', heterochronicity_relationship_type='powerlaw', generative_rule=<gnm.generative_rules.generative_rules.MatchingIndex object at 0x0000016FCC540640>, num_iterations=400, prob_offset=1e-06, binary_updates_per_iteration=1), num_simulations=100, seed_adjacency_matrix=None, distance_matrix=tensor([[0.0000, 0.5303, 0.3052,  ..., 0.7891, 0.5180, 0.7986],\n",
      "        [0.5303, 0.0000, 0.4924,  ..., 0.5788, 0.7938, 0.5220],\n",
      "        [0.3052, 0.4924, 0.0000,  ..., 0.6583, 0.6355, 0.7755],\n",
      "        ...,\n",
      "        [0.7891, 0.5788, 0.6583,  ..., 0.0000, 0.6861, 0.3155],\n",
      "        [0.5180, 0.7938, 0.6355,  ..., 0.6861, 0.0000, 0.6856],\n",
      "        [0.7986, 0.5220, 0.7755,  ..., 0.3155, 0.6856, 0.0000]],\n",
      "       device='cuda:0'), weighted_parameters=WeightedGenerativeParameters(alpha=0.01, optimisation_criterion=<gnm.weight_criteria.optimisation_criteria.DistanceWeightedCommunicability object at 0x0000017058720FA0>, weight_lower_bound=0.0, weight_upper_bound=inf, maximise_criterion=False, weight_updates_per_iteration=1), seed_weight_matrix=None, heterochronous_matrix=None)\n",
      "RunConfig(binary_parameters=BinaryGenerativeParameters(eta=tensor(-1.), gamma=tensor(-0.5000), lambdah=tensor(0.), distance_relationship_type='powerlaw', preferential_relationship_type='powerlaw', heterochronicity_relationship_type='powerlaw', generative_rule=<gnm.generative_rules.generative_rules.MatchingIndex object at 0x0000016FCC540640>, num_iterations=400, prob_offset=1e-06, binary_updates_per_iteration=1), num_simulations=100, seed_adjacency_matrix=None, distance_matrix=tensor([[0.0000, 0.5303, 0.3052,  ..., 0.7891, 0.5180, 0.7986],\n",
      "        [0.5303, 0.0000, 0.4924,  ..., 0.5788, 0.7938, 0.5220],\n",
      "        [0.3052, 0.4924, 0.0000,  ..., 0.6583, 0.6355, 0.7755],\n",
      "        ...,\n",
      "        [0.7891, 0.5788, 0.6583,  ..., 0.0000, 0.6861, 0.3155],\n",
      "        [0.5180, 0.7938, 0.6355,  ..., 0.6861, 0.0000, 0.6856],\n",
      "        [0.7986, 0.5220, 0.7755,  ..., 0.3155, 0.6856, 0.0000]],\n",
      "       device='cuda:0'), weighted_parameters=WeightedGenerativeParameters(alpha=0.01, optimisation_criterion=<gnm.weight_criteria.optimisation_criteria.DistanceWeightedCommunicability object at 0x0000017058720FA0>, weight_lower_bound=0.0, weight_upper_bound=inf, maximise_criterion=False, weight_updates_per_iteration=1), seed_weight_matrix=None, heterochronous_matrix=None)\n",
      "RunConfig(binary_parameters=BinaryGenerativeParameters(eta=tensor(-1.), gamma=tensor(0.), lambdah=tensor(0.), distance_relationship_type='powerlaw', preferential_relationship_type='powerlaw', heterochronicity_relationship_type='powerlaw', generative_rule=<gnm.generative_rules.generative_rules.MatchingIndex object at 0x0000016FCC540640>, num_iterations=400, prob_offset=1e-06, binary_updates_per_iteration=1), num_simulations=100, seed_adjacency_matrix=None, distance_matrix=tensor([[0.0000, 0.5303, 0.3052,  ..., 0.7891, 0.5180, 0.7986],\n",
      "        [0.5303, 0.0000, 0.4924,  ..., 0.5788, 0.7938, 0.5220],\n",
      "        [0.3052, 0.4924, 0.0000,  ..., 0.6583, 0.6355, 0.7755],\n",
      "        ...,\n",
      "        [0.7891, 0.5788, 0.6583,  ..., 0.0000, 0.6861, 0.3155],\n",
      "        [0.5180, 0.7938, 0.6355,  ..., 0.6861, 0.0000, 0.6856],\n",
      "        [0.7986, 0.5220, 0.7755,  ..., 0.3155, 0.6856, 0.0000]],\n",
      "       device='cuda:0'), weighted_parameters=WeightedGenerativeParameters(alpha=0.01, optimisation_criterion=<gnm.weight_criteria.optimisation_criteria.DistanceWeightedCommunicability object at 0x0000017058720FA0>, weight_lower_bound=0.0, weight_upper_bound=inf, maximise_criterion=False, weight_updates_per_iteration=1), seed_weight_matrix=None, heterochronous_matrix=None)\n",
      "RunConfig(binary_parameters=BinaryGenerativeParameters(eta=tensor(-1.), gamma=tensor(0.5000), lambdah=tensor(0.), distance_relationship_type='powerlaw', preferential_relationship_type='powerlaw', heterochronicity_relationship_type='powerlaw', generative_rule=<gnm.generative_rules.generative_rules.MatchingIndex object at 0x0000016FCC540640>, num_iterations=400, prob_offset=1e-06, binary_updates_per_iteration=1), num_simulations=100, seed_adjacency_matrix=None, distance_matrix=tensor([[0.0000, 0.5303, 0.3052,  ..., 0.7891, 0.5180, 0.7986],\n",
      "        [0.5303, 0.0000, 0.4924,  ..., 0.5788, 0.7938, 0.5220],\n",
      "        [0.3052, 0.4924, 0.0000,  ..., 0.6583, 0.6355, 0.7755],\n",
      "        ...,\n",
      "        [0.7891, 0.5788, 0.6583,  ..., 0.0000, 0.6861, 0.3155],\n",
      "        [0.5180, 0.7938, 0.6355,  ..., 0.6861, 0.0000, 0.6856],\n",
      "        [0.7986, 0.5220, 0.7755,  ..., 0.3155, 0.6856, 0.0000]],\n",
      "       device='cuda:0'), weighted_parameters=WeightedGenerativeParameters(alpha=0.01, optimisation_criterion=<gnm.weight_criteria.optimisation_criteria.DistanceWeightedCommunicability object at 0x0000017058720FA0>, weight_lower_bound=0.0, weight_upper_bound=inf, maximise_criterion=False, weight_updates_per_iteration=1), seed_weight_matrix=None, heterochronous_matrix=None)\n"
     ]
    }
   ],
   "source": [
    "eta_values = torch.linspace(-5, -1, 3)\n",
    "gamma_values = torch.linspace(-0.5, 0.5, 3)\n",
    "\n",
    "binary_sweep_parameters = fitting.BinarySweepParameters(\n",
    "    eta = eta_values,\n",
    "    gamma = gamma_values,\n",
    "    lambdah = torch.Tensor([0.0]),\n",
    "    distance_relationship_type = [\"powerlaw\"],\n",
    "    preferential_relationship_type = [\"powerlaw\"],\n",
    "    heterochronicity_relationship_type = [\"powerlaw\"],\n",
    "    generative_rule = [generative_rules.MatchingIndex()],\n",
    "    num_iterations = [num_connections],\n",
    ")\n",
    "\n",
    "weighted_sweep_parameters = fitting.WeightedSweepParameters(\n",
    "    alpha = [0.01],\n",
    "    optimisation_criterion = [weight_criteria.DistanceWeightedCommunicability(distance_matrix=distance_matrix) ],\n",
    ")   \n",
    "\n",
    "num_simulations = 100\n",
    "\n",
    "sweep_config = fitting.SweepConfig(\n",
    "    binary_sweep_parameters = binary_sweep_parameters,\n",
    "    weighted_sweep_parameters = weighted_sweep_parameters,\n",
    "    num_simulations = num_simulations,\n",
    "    distance_matrix = [distance_matrix]    \n",
    ")"
   ]
  },
  {
   "cell_type": "markdown",
   "metadata": {},
   "source": [
    "## Creating our evaluations\n",
    "\n",
    "We want to evaluate how good the fit of our models is the real binary consensus network.\n",
    "For our evaluation criteria, we'll use the maximum of the KS statistics across clustering coefficient, degree, and edge length distributions.  "
   ]
  },
  {
   "cell_type": "code",
   "execution_count": 6,
   "metadata": {},
   "outputs": [],
   "source": [
    "criteria = [ evaluation.ClusteringKS(), evaluation.DegreeKS(), evaluation.EdgeLengthKS(distance_matrix) ]\n",
    "energy = evaluation.MaxCriteria( criteria )\n",
    "binary_evaluations = [energy]"
   ]
  },
  {
   "cell_type": "markdown",
   "metadata": {},
   "source": [
    "We also want to evaluate the fit of the weighted networks. We'll give a couple of evaluations for the weighted networks as well."
   ]
  },
  {
   "cell_type": "code",
   "execution_count": 7,
   "metadata": {},
   "outputs": [],
   "source": [
    "weighted_evaluations = [ evaluation.WeightedNodeStrengthKS(normalise=True), evaluation.WeightedClusteringKS() ]"
   ]
  },
  {
   "cell_type": "markdown",
   "metadata": {},
   "source": [
    "## Performing the sweep"
   ]
  },
  {
   "cell_type": "code",
   "execution_count": 8,
   "metadata": {},
   "outputs": [
    {
     "ename": "KeyboardInterrupt",
     "evalue": "",
     "output_type": "error",
     "traceback": [
      "\u001b[1;31m---------------------------------------------------------------------------\u001b[0m",
      "\u001b[1;31mKeyboardInterrupt\u001b[0m                         Traceback (most recent call last)",
      "Cell \u001b[1;32mIn[8], line 3\u001b[0m\n\u001b[0;32m      1\u001b[0m start_time \u001b[38;5;241m=\u001b[39m time\u001b[38;5;241m.\u001b[39mperf_counter()\n\u001b[1;32m----> 3\u001b[0m experiments \u001b[38;5;241m=\u001b[39m \u001b[43mfitting\u001b[49m\u001b[38;5;241;43m.\u001b[39;49m\u001b[43mperform_sweep\u001b[49m\u001b[43m(\u001b[49m\u001b[43msweep_config\u001b[49m\u001b[38;5;241;43m=\u001b[39;49m\u001b[43msweep_config\u001b[49m\u001b[43m,\u001b[49m\u001b[43m \u001b[49m\n\u001b[0;32m      4\u001b[0m \u001b[43m                                \u001b[49m\u001b[43mbinary_evaluations\u001b[49m\u001b[38;5;241;43m=\u001b[39;49m\u001b[43mbinary_evaluations\u001b[49m\u001b[43m,\u001b[49m\u001b[43m \u001b[49m\n\u001b[0;32m      5\u001b[0m \u001b[43m                                \u001b[49m\u001b[43mreal_binary_matrices\u001b[49m\u001b[38;5;241;43m=\u001b[39;49m\u001b[43mbinary_consensus_network\u001b[49m\u001b[43m,\u001b[49m\n\u001b[0;32m      6\u001b[0m \u001b[43m                                \u001b[49m\u001b[43mweighted_evaluations\u001b[49m\u001b[38;5;241;43m=\u001b[39;49m\u001b[43mweighted_evaluations\u001b[49m\u001b[43m,\u001b[49m\n\u001b[0;32m      7\u001b[0m \u001b[43m                                \u001b[49m\u001b[43msave_model\u001b[49m\u001b[43m \u001b[49m\u001b[38;5;241;43m=\u001b[39;49m\u001b[43m \u001b[49m\u001b[38;5;28;43;01mFalse\u001b[39;49;00m\u001b[43m,\u001b[49m\n\u001b[0;32m      8\u001b[0m \u001b[43m                                \u001b[49m\u001b[43msave_run_history\u001b[49m\u001b[43m \u001b[49m\u001b[38;5;241;43m=\u001b[39;49m\u001b[43m \u001b[49m\u001b[38;5;28;43;01mFalse\u001b[39;49;00m\u001b[43m,\u001b[49m\n\u001b[0;32m      9\u001b[0m \u001b[43m)\u001b[49m\n\u001b[0;32m     11\u001b[0m end_time \u001b[38;5;241m=\u001b[39m time\u001b[38;5;241m.\u001b[39mperf_counter()\n",
      "    \u001b[1;31m[... skipping hidden 1 frame]\u001b[0m\n",
      "File \u001b[1;32mc:\\Users\\Will\\Documents\\projects\\GenerativeNetworkModels\\.conda\\lib\\site-packages\\jaxtyping\\_decorator.py:483\u001b[0m, in \u001b[0;36mjaxtyped.<locals>.wrapped_fn_impl\u001b[1;34m(args, kwargs, bound, memos)\u001b[0m\n\u001b[0;32m    480\u001b[0m             \u001b[38;5;28;01mraise\u001b[39;00m TypeCheckError(msg) \u001b[38;5;28;01mfrom\u001b[39;00m\u001b[38;5;250m \u001b[39m\u001b[38;5;21;01me\u001b[39;00m\n\u001b[0;32m    482\u001b[0m \u001b[38;5;66;03m# Actually call the function.\u001b[39;00m\n\u001b[1;32m--> 483\u001b[0m out \u001b[38;5;241m=\u001b[39m fn(\u001b[38;5;241m*\u001b[39margs, \u001b[38;5;241m*\u001b[39m\u001b[38;5;241m*\u001b[39mkwargs)\n\u001b[0;32m    485\u001b[0m \u001b[38;5;28;01mif\u001b[39;00m full_signature\u001b[38;5;241m.\u001b[39mreturn_annotation \u001b[38;5;129;01mis\u001b[39;00m \u001b[38;5;129;01mnot\u001b[39;00m inspect\u001b[38;5;241m.\u001b[39mSignature\u001b[38;5;241m.\u001b[39mempty:\n\u001b[0;32m    486\u001b[0m     \u001b[38;5;66;03m# Now type-check the return value. We need to include the\u001b[39;00m\n\u001b[0;32m    487\u001b[0m     \u001b[38;5;66;03m# parameters in the type-checking here in case there are any\u001b[39;00m\n\u001b[1;32m   (...)\u001b[0m\n\u001b[0;32m    498\u001b[0m     \u001b[38;5;66;03m# checking of the parameters. Unfortunately there doesn't seem\u001b[39;00m\n\u001b[0;32m    499\u001b[0m     \u001b[38;5;66;03m# to be a way around that, so c'est la vie.\u001b[39;00m\n\u001b[0;32m    500\u001b[0m     kwargs[output_name] \u001b[38;5;241m=\u001b[39m out\n",
      "File \u001b[1;32m~\\Documents\\projects\\GenerativeNetworkModels\\src\\gnm\\fitting\\sweep.py:307\u001b[0m, in \u001b[0;36mperform_sweep\u001b[1;34m(sweep_config, binary_evaluations, weighted_evaluations, real_binary_matrices, real_weighted_matrices, save_model, save_run_history, device, verbose)\u001b[0m\n\u001b[0;32m    304\u001b[0m     config_count \u001b[38;5;241m=\u001b[39m \u001b[38;5;241m1\u001b[39m\n\u001b[0;32m    306\u001b[0m \u001b[38;5;28;01mfor\u001b[39;00m run_config \u001b[38;5;129;01min\u001b[39;00m tqdm(sweep_config, desc\u001b[38;5;241m=\u001b[39m\u001b[38;5;124m'\u001b[39m\u001b[38;5;124mConfiguration Iterations\u001b[39m\u001b[38;5;124m'\u001b[39m, total\u001b[38;5;241m=\u001b[39mconfig_count, disable\u001b[38;5;241m=\u001b[39m\u001b[38;5;129;01mnot\u001b[39;00m verbose):\n\u001b[1;32m--> 307\u001b[0m     experiment \u001b[38;5;241m=\u001b[39m \u001b[43mperform_run\u001b[49m\u001b[43m(\u001b[49m\n\u001b[0;32m    308\u001b[0m \u001b[43m        \u001b[49m\u001b[43mrun_config\u001b[49m\u001b[38;5;241;43m=\u001b[39;49m\u001b[43mrun_config\u001b[49m\u001b[43m,\u001b[49m\n\u001b[0;32m    309\u001b[0m \u001b[43m        \u001b[49m\u001b[43mbinary_evaluations\u001b[49m\u001b[38;5;241;43m=\u001b[39;49m\u001b[43mbinary_evaluations\u001b[49m\u001b[43m,\u001b[49m\n\u001b[0;32m    310\u001b[0m \u001b[43m        \u001b[49m\u001b[43mweighted_evaluations\u001b[49m\u001b[38;5;241;43m=\u001b[39;49m\u001b[43mweighted_evaluations\u001b[49m\u001b[43m,\u001b[49m\n\u001b[0;32m    311\u001b[0m \u001b[43m        \u001b[49m\u001b[43mreal_binary_matrices\u001b[49m\u001b[38;5;241;43m=\u001b[39;49m\u001b[43mreal_binary_matrices\u001b[49m\u001b[43m,\u001b[49m\n\u001b[0;32m    312\u001b[0m \u001b[43m        \u001b[49m\u001b[43mreal_weighted_matrices\u001b[49m\u001b[38;5;241;43m=\u001b[39;49m\u001b[43mreal_weighted_matrices\u001b[49m\u001b[43m,\u001b[49m\n\u001b[0;32m    313\u001b[0m \u001b[43m        \u001b[49m\u001b[43msave_model\u001b[49m\u001b[38;5;241;43m=\u001b[39;49m\u001b[43msave_model\u001b[49m\u001b[43m,\u001b[49m\n\u001b[0;32m    314\u001b[0m \u001b[43m        \u001b[49m\u001b[43msave_run_history\u001b[49m\u001b[38;5;241;43m=\u001b[39;49m\u001b[43msave_run_history\u001b[49m\u001b[43m,\u001b[49m\n\u001b[0;32m    315\u001b[0m \u001b[43m        \u001b[49m\u001b[43mdevice\u001b[49m\u001b[38;5;241;43m=\u001b[39;49m\u001b[43mdevice\u001b[49m\u001b[43m,\u001b[49m\n\u001b[0;32m    316\u001b[0m \u001b[43m    \u001b[49m\u001b[43m)\u001b[49m\n\u001b[0;32m    318\u001b[0m     run_results\u001b[38;5;241m.\u001b[39mappend(experiment)\n\u001b[0;32m    320\u001b[0m     gc\u001b[38;5;241m.\u001b[39mcollect()\n",
      "    \u001b[1;31m[... skipping hidden 1 frame]\u001b[0m\n",
      "File \u001b[1;32mc:\\Users\\Will\\Documents\\projects\\GenerativeNetworkModels\\.conda\\lib\\site-packages\\jaxtyping\\_decorator.py:483\u001b[0m, in \u001b[0;36mjaxtyped.<locals>.wrapped_fn_impl\u001b[1;34m(args, kwargs, bound, memos)\u001b[0m\n\u001b[0;32m    480\u001b[0m             \u001b[38;5;28;01mraise\u001b[39;00m TypeCheckError(msg) \u001b[38;5;28;01mfrom\u001b[39;00m\u001b[38;5;250m \u001b[39m\u001b[38;5;21;01me\u001b[39;00m\n\u001b[0;32m    482\u001b[0m \u001b[38;5;66;03m# Actually call the function.\u001b[39;00m\n\u001b[1;32m--> 483\u001b[0m out \u001b[38;5;241m=\u001b[39m fn(\u001b[38;5;241m*\u001b[39margs, \u001b[38;5;241m*\u001b[39m\u001b[38;5;241m*\u001b[39mkwargs)\n\u001b[0;32m    485\u001b[0m \u001b[38;5;28;01mif\u001b[39;00m full_signature\u001b[38;5;241m.\u001b[39mreturn_annotation \u001b[38;5;129;01mis\u001b[39;00m \u001b[38;5;129;01mnot\u001b[39;00m inspect\u001b[38;5;241m.\u001b[39mSignature\u001b[38;5;241m.\u001b[39mempty:\n\u001b[0;32m    486\u001b[0m     \u001b[38;5;66;03m# Now type-check the return value. We need to include the\u001b[39;00m\n\u001b[0;32m    487\u001b[0m     \u001b[38;5;66;03m# parameters in the type-checking here in case there are any\u001b[39;00m\n\u001b[1;32m   (...)\u001b[0m\n\u001b[0;32m    498\u001b[0m     \u001b[38;5;66;03m# checking of the parameters. Unfortunately there doesn't seem\u001b[39;00m\n\u001b[0;32m    499\u001b[0m     \u001b[38;5;66;03m# to be a way around that, so c'est la vie.\u001b[39;00m\n\u001b[0;32m    500\u001b[0m     kwargs[output_name] \u001b[38;5;241m=\u001b[39m out\n",
      "File \u001b[1;32m~\\Documents\\projects\\GenerativeNetworkModels\\src\\gnm\\fitting\\sweep.py:156\u001b[0m, in \u001b[0;36mperform_run\u001b[1;34m(run_config, binary_evaluations, weighted_evaluations, real_binary_matrices, real_weighted_matrices, save_model, save_run_history, device)\u001b[0m\n\u001b[0;32m     72\u001b[0m \u001b[38;5;250m\u001b[39m\u001b[38;5;124mr\u001b[39m\u001b[38;5;124;03m\"\"\"Perform a single run of the generative network model.\u001b[39;00m\n\u001b[0;32m     73\u001b[0m \n\u001b[0;32m     74\u001b[0m \u001b[38;5;124;03mThis function executes a generative network model with the specified configuration,\u001b[39;00m\n\u001b[1;32m   (...)\u001b[0m\n\u001b[0;32m    142\u001b[0m \u001b[38;5;124;03m    - [`GenerativeNetworkModel`][gnm.GenerativeNetworkModel]: The network model being executed\u001b[39;00m\n\u001b[0;32m    143\u001b[0m \u001b[38;5;124;03m\"\"\"\u001b[39;00m\n\u001b[0;32m    145\u001b[0m model \u001b[38;5;241m=\u001b[39m GenerativeNetworkModel(\n\u001b[0;32m    146\u001b[0m     binary_parameters\u001b[38;5;241m=\u001b[39mrun_config\u001b[38;5;241m.\u001b[39mbinary_parameters,\n\u001b[0;32m    147\u001b[0m     num_simulations\u001b[38;5;241m=\u001b[39mrun_config\u001b[38;5;241m.\u001b[39mnum_simulations,\n\u001b[1;32m   (...)\u001b[0m\n\u001b[0;32m    153\u001b[0m     verbose\u001b[38;5;241m=\u001b[39m\u001b[38;5;28;01mFalse\u001b[39;00m\n\u001b[0;32m    154\u001b[0m )\n\u001b[1;32m--> 156\u001b[0m added_edges, adjacency_snapshots, weight_snapshots \u001b[38;5;241m=\u001b[39m \u001b[43mmodel\u001b[49m\u001b[38;5;241;43m.\u001b[39;49m\u001b[43mrun_model\u001b[49m\u001b[43m(\u001b[49m\n\u001b[0;32m    157\u001b[0m \u001b[43m    \u001b[49m\u001b[43mheterochronous_matrix\u001b[49m\u001b[38;5;241;43m=\u001b[39;49m\u001b[43mrun_config\u001b[49m\u001b[38;5;241;43m.\u001b[39;49m\u001b[43mheterochronous_matrix\u001b[49m\n\u001b[0;32m    158\u001b[0m \u001b[43m\u001b[49m\u001b[43m)\u001b[49m\n\u001b[0;32m    160\u001b[0m run_history \u001b[38;5;241m=\u001b[39m RunHistory(\n\u001b[0;32m    161\u001b[0m     added_edges\u001b[38;5;241m=\u001b[39madded_edges,\n\u001b[0;32m    162\u001b[0m     adjacency_snapshots\u001b[38;5;241m=\u001b[39madjacency_snapshots,\n\u001b[0;32m    163\u001b[0m     weight_snapshots\u001b[38;5;241m=\u001b[39mweight_snapshots,\n\u001b[0;32m    164\u001b[0m )\n\u001b[0;32m    166\u001b[0m evaluation_results \u001b[38;5;241m=\u001b[39m perform_evaluations(\n\u001b[0;32m    167\u001b[0m     model\u001b[38;5;241m=\u001b[39mmodel,\n\u001b[0;32m    168\u001b[0m     binary_evaluations\u001b[38;5;241m=\u001b[39mbinary_evaluations,\n\u001b[1;32m   (...)\u001b[0m\n\u001b[0;32m    172\u001b[0m     device\u001b[38;5;241m=\u001b[39mdevice,\n\u001b[0;32m    173\u001b[0m )\n",
      "    \u001b[1;31m[... skipping hidden 1 frame]\u001b[0m\n",
      "File \u001b[1;32mc:\\Users\\Will\\Documents\\projects\\GenerativeNetworkModels\\.conda\\lib\\site-packages\\jaxtyping\\_decorator.py:483\u001b[0m, in \u001b[0;36mjaxtyped.<locals>.wrapped_fn_impl\u001b[1;34m(args, kwargs, bound, memos)\u001b[0m\n\u001b[0;32m    480\u001b[0m             \u001b[38;5;28;01mraise\u001b[39;00m TypeCheckError(msg) \u001b[38;5;28;01mfrom\u001b[39;00m\u001b[38;5;250m \u001b[39m\u001b[38;5;21;01me\u001b[39;00m\n\u001b[0;32m    482\u001b[0m \u001b[38;5;66;03m# Actually call the function.\u001b[39;00m\n\u001b[1;32m--> 483\u001b[0m out \u001b[38;5;241m=\u001b[39m fn(\u001b[38;5;241m*\u001b[39margs, \u001b[38;5;241m*\u001b[39m\u001b[38;5;241m*\u001b[39mkwargs)\n\u001b[0;32m    485\u001b[0m \u001b[38;5;28;01mif\u001b[39;00m full_signature\u001b[38;5;241m.\u001b[39mreturn_annotation \u001b[38;5;129;01mis\u001b[39;00m \u001b[38;5;129;01mnot\u001b[39;00m inspect\u001b[38;5;241m.\u001b[39mSignature\u001b[38;5;241m.\u001b[39mempty:\n\u001b[0;32m    486\u001b[0m     \u001b[38;5;66;03m# Now type-check the return value. We need to include the\u001b[39;00m\n\u001b[0;32m    487\u001b[0m     \u001b[38;5;66;03m# parameters in the type-checking here in case there are any\u001b[39;00m\n\u001b[1;32m   (...)\u001b[0m\n\u001b[0;32m    498\u001b[0m     \u001b[38;5;66;03m# checking of the parameters. Unfortunately there doesn't seem\u001b[39;00m\n\u001b[0;32m    499\u001b[0m     \u001b[38;5;66;03m# to be a way around that, so c'est la vie.\u001b[39;00m\n\u001b[0;32m    500\u001b[0m     kwargs[output_name] \u001b[38;5;241m=\u001b[39m out\n",
      "File \u001b[1;32m~\\Documents\\projects\\GenerativeNetworkModels\\src\\gnm\\model.py:982\u001b[0m, in \u001b[0;36mGenerativeNetworkModel.run_model\u001b[1;34m(self, heterochronous_matrix)\u001b[0m\n\u001b[0;32m    980\u001b[0m     \u001b[38;5;28;01mfor\u001b[39;00m jj \u001b[38;5;129;01min\u001b[39;00m \u001b[38;5;28mrange\u001b[39m(weight_updates_per_iteration):\n\u001b[0;32m    981\u001b[0m         update_idx \u001b[38;5;241m=\u001b[39m ii \u001b[38;5;241m*\u001b[39m weight_updates_per_iteration \u001b[38;5;241m+\u001b[39m jj\n\u001b[1;32m--> 982\u001b[0m         weight_matrix \u001b[38;5;241m=\u001b[39m \u001b[38;5;28;43mself\u001b[39;49m\u001b[38;5;241;43m.\u001b[39;49m\u001b[43mweighted_update\u001b[49m\u001b[43m(\u001b[49m\u001b[43m)\u001b[49m\n\u001b[0;32m    983\u001b[0m         weight_snapshots[update_idx] \u001b[38;5;241m=\u001b[39m weight_matrix\n\u001b[0;32m    985\u001b[0m \u001b[38;5;66;03m# stack the added edges\u001b[39;00m\n",
      "    \u001b[1;31m[... skipping hidden 1 frame]\u001b[0m\n",
      "File \u001b[1;32mc:\\Users\\Will\\Documents\\projects\\GenerativeNetworkModels\\.conda\\lib\\site-packages\\jaxtyping\\_decorator.py:483\u001b[0m, in \u001b[0;36mjaxtyped.<locals>.wrapped_fn_impl\u001b[1;34m(args, kwargs, bound, memos)\u001b[0m\n\u001b[0;32m    480\u001b[0m             \u001b[38;5;28;01mraise\u001b[39;00m TypeCheckError(msg) \u001b[38;5;28;01mfrom\u001b[39;00m\u001b[38;5;250m \u001b[39m\u001b[38;5;21;01me\u001b[39;00m\n\u001b[0;32m    482\u001b[0m \u001b[38;5;66;03m# Actually call the function.\u001b[39;00m\n\u001b[1;32m--> 483\u001b[0m out \u001b[38;5;241m=\u001b[39m fn(\u001b[38;5;241m*\u001b[39margs, \u001b[38;5;241m*\u001b[39m\u001b[38;5;241m*\u001b[39mkwargs)\n\u001b[0;32m    485\u001b[0m \u001b[38;5;28;01mif\u001b[39;00m full_signature\u001b[38;5;241m.\u001b[39mreturn_annotation \u001b[38;5;129;01mis\u001b[39;00m \u001b[38;5;129;01mnot\u001b[39;00m inspect\u001b[38;5;241m.\u001b[39mSignature\u001b[38;5;241m.\u001b[39mempty:\n\u001b[0;32m    486\u001b[0m     \u001b[38;5;66;03m# Now type-check the return value. We need to include the\u001b[39;00m\n\u001b[0;32m    487\u001b[0m     \u001b[38;5;66;03m# parameters in the type-checking here in case there are any\u001b[39;00m\n\u001b[1;32m   (...)\u001b[0m\n\u001b[0;32m    498\u001b[0m     \u001b[38;5;66;03m# checking of the parameters. Unfortunately there doesn't seem\u001b[39;00m\n\u001b[0;32m    499\u001b[0m     \u001b[38;5;66;03m# to be a way around that, so c'est la vie.\u001b[39;00m\n\u001b[0;32m    500\u001b[0m     kwargs[output_name] \u001b[38;5;241m=\u001b[39m out\n",
      "File \u001b[1;32m~\\Documents\\projects\\GenerativeNetworkModels\\src\\gnm\\model.py:838\u001b[0m, in \u001b[0;36mGenerativeNetworkModel.weighted_update\u001b[1;34m(self)\u001b[0m\n\u001b[0;32m    836\u001b[0m \u001b[38;5;66;03m# Compute the gradients\u001b[39;00m\n\u001b[0;32m    837\u001b[0m \u001b[38;5;28mself\u001b[39m\u001b[38;5;241m.\u001b[39moptimiser\u001b[38;5;241m.\u001b[39mzero_grad()\n\u001b[1;32m--> 838\u001b[0m \u001b[43mtotal_loss\u001b[49m\u001b[38;5;241;43m.\u001b[39;49m\u001b[43mbackward\u001b[49m\u001b[43m(\u001b[49m\u001b[43m)\u001b[49m\n\u001b[0;32m    840\u001b[0m \u001b[38;5;66;03m# Update the weights\u001b[39;00m\n\u001b[0;32m    841\u001b[0m \u001b[38;5;28mself\u001b[39m\u001b[38;5;241m.\u001b[39moptimiser\u001b[38;5;241m.\u001b[39mstep()\n",
      "File \u001b[1;32mc:\\Users\\Will\\Documents\\projects\\GenerativeNetworkModels\\.conda\\lib\\site-packages\\torch\\_tensor.py:581\u001b[0m, in \u001b[0;36mTensor.backward\u001b[1;34m(self, gradient, retain_graph, create_graph, inputs)\u001b[0m\n\u001b[0;32m    571\u001b[0m \u001b[38;5;28;01mif\u001b[39;00m has_torch_function_unary(\u001b[38;5;28mself\u001b[39m):\n\u001b[0;32m    572\u001b[0m     \u001b[38;5;28;01mreturn\u001b[39;00m handle_torch_function(\n\u001b[0;32m    573\u001b[0m         Tensor\u001b[38;5;241m.\u001b[39mbackward,\n\u001b[0;32m    574\u001b[0m         (\u001b[38;5;28mself\u001b[39m,),\n\u001b[1;32m   (...)\u001b[0m\n\u001b[0;32m    579\u001b[0m         inputs\u001b[38;5;241m=\u001b[39minputs,\n\u001b[0;32m    580\u001b[0m     )\n\u001b[1;32m--> 581\u001b[0m \u001b[43mtorch\u001b[49m\u001b[38;5;241;43m.\u001b[39;49m\u001b[43mautograd\u001b[49m\u001b[38;5;241;43m.\u001b[39;49m\u001b[43mbackward\u001b[49m\u001b[43m(\u001b[49m\n\u001b[0;32m    582\u001b[0m \u001b[43m    \u001b[49m\u001b[38;5;28;43mself\u001b[39;49m\u001b[43m,\u001b[49m\u001b[43m \u001b[49m\u001b[43mgradient\u001b[49m\u001b[43m,\u001b[49m\u001b[43m \u001b[49m\u001b[43mretain_graph\u001b[49m\u001b[43m,\u001b[49m\u001b[43m \u001b[49m\u001b[43mcreate_graph\u001b[49m\u001b[43m,\u001b[49m\u001b[43m \u001b[49m\u001b[43minputs\u001b[49m\u001b[38;5;241;43m=\u001b[39;49m\u001b[43minputs\u001b[49m\n\u001b[0;32m    583\u001b[0m \u001b[43m\u001b[49m\u001b[43m)\u001b[49m\n",
      "File \u001b[1;32mc:\\Users\\Will\\Documents\\projects\\GenerativeNetworkModels\\.conda\\lib\\site-packages\\torch\\autograd\\__init__.py:347\u001b[0m, in \u001b[0;36mbackward\u001b[1;34m(tensors, grad_tensors, retain_graph, create_graph, grad_variables, inputs)\u001b[0m\n\u001b[0;32m    342\u001b[0m     retain_graph \u001b[38;5;241m=\u001b[39m create_graph\n\u001b[0;32m    344\u001b[0m \u001b[38;5;66;03m# The reason we repeat the same comment below is that\u001b[39;00m\n\u001b[0;32m    345\u001b[0m \u001b[38;5;66;03m# some Python versions print out the first line of a multi-line function\u001b[39;00m\n\u001b[0;32m    346\u001b[0m \u001b[38;5;66;03m# calls in the traceback and some print out the last line\u001b[39;00m\n\u001b[1;32m--> 347\u001b[0m \u001b[43m_engine_run_backward\u001b[49m\u001b[43m(\u001b[49m\n\u001b[0;32m    348\u001b[0m \u001b[43m    \u001b[49m\u001b[43mtensors\u001b[49m\u001b[43m,\u001b[49m\n\u001b[0;32m    349\u001b[0m \u001b[43m    \u001b[49m\u001b[43mgrad_tensors_\u001b[49m\u001b[43m,\u001b[49m\n\u001b[0;32m    350\u001b[0m \u001b[43m    \u001b[49m\u001b[43mretain_graph\u001b[49m\u001b[43m,\u001b[49m\n\u001b[0;32m    351\u001b[0m \u001b[43m    \u001b[49m\u001b[43mcreate_graph\u001b[49m\u001b[43m,\u001b[49m\n\u001b[0;32m    352\u001b[0m \u001b[43m    \u001b[49m\u001b[43minputs\u001b[49m\u001b[43m,\u001b[49m\n\u001b[0;32m    353\u001b[0m \u001b[43m    \u001b[49m\u001b[43mallow_unreachable\u001b[49m\u001b[38;5;241;43m=\u001b[39;49m\u001b[38;5;28;43;01mTrue\u001b[39;49;00m\u001b[43m,\u001b[49m\n\u001b[0;32m    354\u001b[0m \u001b[43m    \u001b[49m\u001b[43maccumulate_grad\u001b[49m\u001b[38;5;241;43m=\u001b[39;49m\u001b[38;5;28;43;01mTrue\u001b[39;49;00m\u001b[43m,\u001b[49m\n\u001b[0;32m    355\u001b[0m \u001b[43m\u001b[49m\u001b[43m)\u001b[49m\n",
      "File \u001b[1;32mc:\\Users\\Will\\Documents\\projects\\GenerativeNetworkModels\\.conda\\lib\\site-packages\\torch\\autograd\\graph.py:825\u001b[0m, in \u001b[0;36m_engine_run_backward\u001b[1;34m(t_outputs, *args, **kwargs)\u001b[0m\n\u001b[0;32m    823\u001b[0m     unregister_hooks \u001b[38;5;241m=\u001b[39m _register_logging_hooks_on_whole_graph(t_outputs)\n\u001b[0;32m    824\u001b[0m \u001b[38;5;28;01mtry\u001b[39;00m:\n\u001b[1;32m--> 825\u001b[0m     \u001b[38;5;28;01mreturn\u001b[39;00m Variable\u001b[38;5;241m.\u001b[39m_execution_engine\u001b[38;5;241m.\u001b[39mrun_backward(  \u001b[38;5;66;03m# Calls into the C++ engine to run the backward pass\u001b[39;00m\n\u001b[0;32m    826\u001b[0m         t_outputs, \u001b[38;5;241m*\u001b[39margs, \u001b[38;5;241m*\u001b[39m\u001b[38;5;241m*\u001b[39mkwargs\n\u001b[0;32m    827\u001b[0m     )  \u001b[38;5;66;03m# Calls into the C++ engine to run the backward pass\u001b[39;00m\n\u001b[0;32m    828\u001b[0m \u001b[38;5;28;01mfinally\u001b[39;00m:\n\u001b[0;32m    829\u001b[0m     \u001b[38;5;28;01mif\u001b[39;00m attach_logging_hooks:\n",
      "\u001b[1;31mKeyboardInterrupt\u001b[0m: "
     ]
    }
   ],
   "source": [
    "\n",
    "start_time = time.perf_counter()\n",
    "\n",
    "experiments = fitting.perform_sweep(sweep_config=sweep_config, \n",
    "                                binary_evaluations=binary_evaluations, \n",
    "                                real_binary_matrices=binary_consensus_network,\n",
    "                                weighted_evaluations=weighted_evaluations,\n",
    "                                save_model = False,\n",
    "                                save_run_history = False,\n",
    ")\n",
    "\n",
    "end_time = time.perf_counter()"
   ]
  },
  {
   "cell_type": "markdown",
   "metadata": {},
   "source": [
    "Let's look at the efficiency of the sweep."
   ]
  },
  {
   "cell_type": "code",
   "execution_count": null,
   "metadata": {},
   "outputs": [],
   "source": [
    "print(f\"Sweep took {end_time - start_time:0.3f} seconds.\")\n",
    "\n",
    "total_simulations = num_simulations * len(eta_values) * len(gamma_values)\n",
    "\n",
    "print(f\"Total number of simulations: {total_simulations}\")\n",
    "\n",
    "print(f\"Average time per simulation: {(end_time - start_time) / total_simulations:0.3f} seconds.\")"
   ]
  },
  {
   "cell_type": "markdown",
   "metadata": {},
   "source": [
    "## Analysing the results"
   ]
  },
  {
   "cell_type": "code",
   "execution_count": null,
   "metadata": {},
   "outputs": [],
   "source": [
    "optimal_experiments, optimal_energies = fitting.optimise_evaluation(\n",
    "    experiments=experiments,\n",
    "    criterion=energy,\n",
    ")\n",
    "\n",
    "optimal_experiment = optimal_experiments[0]\n",
    "optimal_energy = optimal_energies[0]"
   ]
  },
  {
   "cell_type": "code",
   "execution_count": null,
   "metadata": {},
   "outputs": [],
   "source": [
    "print(f\"Optimal energy: {optimal_energy:0.3f}\")\n",
    "print(f\"Optimal value of eta: {optimal_experiment.run_config.binary_parameters.eta:0.2f}\")\n",
    "print(f\"Optimal value of gamma: {optimal_experiment.run_config.binary_parameters.gamma:0.2f}\")"
   ]
  }
 ],
 "metadata": {
  "kernelspec": {
   "display_name": "Python 3",
   "language": "python",
   "name": "python3"
  },
  "language_info": {
   "codemirror_mode": {
    "name": "ipython",
    "version": 3
   },
   "file_extension": ".py",
   "mimetype": "text/x-python",
   "name": "python",
   "nbconvert_exporter": "python",
   "pygments_lexer": "ipython3",
   "version": "3.9.21"
  }
 },
 "nbformat": 4,
 "nbformat_minor": 2
}
