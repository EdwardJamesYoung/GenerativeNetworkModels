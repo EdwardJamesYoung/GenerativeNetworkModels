{
 "cells": [
  {
   "cell_type": "markdown",
   "metadata": {},
   "source": [
    "Imports, set torch device (will we use GPU or CPU?) and get matrices for analysis"
   ]
  },
  {
   "cell_type": "code",
   "execution_count": 1,
   "metadata": {},
   "outputs": [],
   "source": [
    "from gnm import defaults, utils, fitting, generative_rules, weight_criteria, evaluation\n",
    "import numpy as np\n",
    "import torch\n",
    "import time\n",
    "\n",
    "DEVICE = torch.device(\"cuda:0\" if torch.cuda.is_available() else \"cpu\")\n",
    "\n",
    "distance_matrix = defaults.get_distance_matrix(device=DEVICE)\n",
    "weighted_consensus_network = defaults.get_weighted_network(device=DEVICE)\n",
    "binary_consensus_network = defaults.get_binary_network(device=DEVICE)"
   ]
  },
  {
   "cell_type": "markdown",
   "metadata": {},
   "source": [
    "Parameter setting"
   ]
  },
  {
   "cell_type": "code",
   "execution_count": 2,
   "metadata": {},
   "outputs": [
    {
     "name": "stdout",
     "output_type": "stream",
     "text": [
      "The weighted consensus network contains 400 connections.\n"
     ]
    }
   ],
   "source": [
    "# set fixed eta and gamma \n",
    "eta = torch.Tensor([-0.1])\n",
    "gamma = torch.Tensor([0.1])\n",
    "\n",
    "# set space for weighted sweep - test for 2x2x2 grid search,\n",
    "# uncomment np.linspace for a more extensive search\n",
    "alpha_values = [1, 3, 1] # np.linspace(-1, 1, 0.1)\n",
    "omega_values = [1, 3, 1] # np.linspace(-1, 1, 0.1)\n",
    "\n",
    "# define the number of simulations we want to run\n",
    "num_simulations = 100\n",
    "\n",
    "# set the number of connections - remember to count per connection without weight initially\n",
    "num_connections = int( torch.where(weighted_consensus_network > 1, 1, 0).sum().item() / 2 )\n",
    "print(f\"The weighted consensus network contains {num_connections} connections.\")"
   ]
  },
  {
   "cell_type": "markdown",
   "metadata": {},
   "source": [
    "Defining the sweep"
   ]
  },
  {
   "cell_type": "code",
   "execution_count": null,
   "metadata": {},
   "outputs": [],
   "source": [
    "binary_sweep_parameters = fitting.BinarySweepParameters(\n",
    "    eta = torch.linspace(-1, 1, 1),\n",
    "    gamma = torch.linspace(-1, 1, 1),\n",
    "    lambdah = torch.Tensor([0.0]),\n",
    "    distance_relationship_type = [\"powerlaw\"],\n",
    "    preferential_relationship_type = [\"powerlaw\"],\n",
    "    heterochronicity_relationship_type = [\"powerlaw\"],\n",
    "    generative_rule = [generative_rules.MatchingIndex()],\n",
    "    num_iterations = [num_connections],\n",
    ")\n",
    "\n",
    "# we create a set of optimization criteria using our many omega values\n",
    "weighted_sweep_parameters = fitting.WeightedSweepParameters(\n",
    "    alpha = alpha_values,\n",
    "    optimisation_criterion = [ \n",
    "        weight_criteria.DistanceWeightedCommunicability(distance_matrix=distance_matrix, omega=omega_value)\n",
    "        for omega_value in omega_values],\n",
    ")\n",
    "\n",
    "\n",
    "sweep_config = fitting.SweepConfig(\n",
    "    binary_sweep_parameters = binary_sweep_parameters,\n",
    "    weighted_sweep_parameters = weighted_sweep_parameters,\n",
    "    num_simulations = num_simulations,\n",
    "    distance_matrix = [distance_matrix],\n",
    ")"
   ]
  },
  {
   "cell_type": "markdown",
   "metadata": {},
   "source": [
    "Create our evaluation critereon - this tells you how close the generative model is to your actual connectome in terms of a given set of topological or topographical criteria - in this case, we use the KS Statistic to compare clustering, degree, and edge length"
   ]
  },
  {
   "cell_type": "code",
   "execution_count": 4,
   "metadata": {},
   "outputs": [],
   "source": [
    "# binary evaluations\n",
    "criteria = [ evaluation.ClusteringKS(), evaluation.DegreeKS(), evaluation.EdgeLengthKS(distance_matrix) ]\n",
    "energy_equation = evaluation.MaxCriteria( criteria )\n",
    "binary_evaluations = [energy_equation]\n",
    "\n",
    "# weighted evaluations\n",
    "weighted_evaluations = [ evaluation.WeightedNodeStrengthKS(normalise=True), evaluation.WeightedClusteringKS() ]\n"
   ]
  },
  {
   "cell_type": "markdown",
   "metadata": {},
   "source": [
    "Perform the sweep"
   ]
  },
  {
   "cell_type": "code",
   "execution_count": 5,
   "metadata": {},
   "outputs": [
    {
     "name": "stderr",
     "output_type": "stream",
     "text": [
      "Configuration Iterations: 100%|██████████| 9/9 [00:59<00:00,  6.58s/it]\n"
     ]
    }
   ],
   "source": [
    "start_time = time.perf_counter()\n",
    "\n",
    "experiments = fitting.perform_sweep(\n",
    "    sweep_config=sweep_config, \n",
    "    binary_evaluations=binary_evaluations, \n",
    "    real_binary_matrices=binary_consensus_network,\n",
    "    real_weighted_matrices=weighted_consensus_network,\n",
    "    weighted_evaluations=weighted_evaluations,\n",
    "    save_model = False,\n",
    "    save_run_history = False,\n",
    "    verbose=True\n",
    ")\n",
    "\n",
    "end_time = time.perf_counter()"
   ]
  },
  {
   "cell_type": "code",
   "execution_count": 7,
   "metadata": {},
   "outputs": [
    {
     "name": "stdout",
     "output_type": "stream",
     "text": [
      "Sweep took 59.180 seconds.\n",
      "Total number of simulations: 900\n",
      "Average time per simulation: 0.066 seconds.\n"
     ]
    }
   ],
   "source": [
    "print(f\"Sweep took {end_time - start_time:0.3f} seconds.\")\n",
    "\n",
    "total_simulations = num_simulations * len(alpha_values) * len(omega_values)\n",
    "\n",
    "print(f\"Total number of simulations: {total_simulations}\")\n",
    "\n",
    "print(f\"Average time per simulation: {(end_time - start_time) / total_simulations:0.3f} seconds.\")"
   ]
  }
 ],
 "metadata": {
  "kernelspec": {
   "display_name": "Python 3",
   "language": "python",
   "name": "python3"
  },
  "language_info": {
   "codemirror_mode": {
    "name": "ipython",
    "version": 3
   },
   "file_extension": ".py",
   "mimetype": "text/x-python",
   "name": "python",
   "nbconvert_exporter": "python",
   "pygments_lexer": "ipython3",
   "version": "3.9.21"
  }
 },
 "nbformat": 4,
 "nbformat_minor": 2
}
