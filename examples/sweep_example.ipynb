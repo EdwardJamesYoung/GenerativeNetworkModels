{
 "cells": [
  {
   "cell_type": "code",
   "execution_count": 1,
   "metadata": {},
   "outputs": [],
   "source": [
    "import os\n",
    "notebook_dir = os.getcwd() \n",
    "import sys\n",
    "sys.path.append(os.path.abspath(os.path.join(notebook_dir, '..', 'src')))\n",
    "\n",
    "from gnm import *\n",
    "from gnm.generative_rules import *\n",
    "from gnm.weight_criteria import * \n",
    "from gnm.utils import * \n",
    "from gnm.fitting import *\n",
    "from gnm.defaults import *\n",
    "from gnm.evaluation import *"
   ]
  },
  {
   "cell_type": "code",
   "execution_count": null,
   "metadata": {},
   "outputs": [],
   "source": []
  }
 ],
 "metadata": {
  "kernelspec": {
   "display_name": "Python 3",
   "language": "python",
   "name": "python3"
  },
  "language_info": {
   "codemirror_mode": {
    "name": "ipython",
    "version": 3
   },
   "file_extension": ".py",
   "mimetype": "text/x-python",
   "name": "python",
   "nbconvert_exporter": "python",
   "pygments_lexer": "ipython3",
   "version": "3.12.7"
  }
 },
 "nbformat": 4,
 "nbformat_minor": 2
}
