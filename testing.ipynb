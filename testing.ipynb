{
 "cells": [
  {
   "cell_type": "code",
   "execution_count": null,
   "metadata": {},
   "outputs": [],
   "source": [
    "import importlib"
   ]
  },
  {
   "cell_type": "code",
   "execution_count": null,
   "metadata": {},
   "outputs": [],
   "source": [
    "import torch\n",
    "import matplotlib.pyplot as plt\n",
    "import numpy as np\n",
    "from tqdm.notebook import tqdm\n",
    "import GNM\n",
    "importlib.reload(GNM)\n",
    "from GNM import GenerativeNetworkModel"
   ]
  },
  {
   "cell_type": "code",
   "execution_count": null,
   "metadata": {},
   "outputs": [],
   "source": [
    "num_nodes = 100\n",
    "num_seed_edges = 250"
   ]
  },
  {
   "cell_type": "code",
   "execution_count": null,
   "metadata": {},
   "outputs": [],
   "source": [
    "seed_adjacency_matrix = torch.zeros(num_nodes, num_nodes)\n",
    "# Randomly select seed edges\n",
    "seed_edge_indices = torch.randint(0, num_nodes, (num_seed_edges, 2))\n",
    "seed_adjacency_matrix[seed_edge_indices[:, 0], seed_edge_indices[:, 1]] = 1\n",
    "seed_adjacency_matrix[seed_edge_indices[:, 1], seed_edge_indices[:, 0]] = 1\n",
    "# Remove diagonals\n",
    "seed_adjacency_matrix.fill_diagonal_(0)\n",
    "\n",
    "# Set the distance matrix to all ones\n",
    "distance_matrix = torch.ones(num_nodes, num_nodes)\n",
    "distance_matrix.fill_diagonal_(0)\n",
    "\n",
    "# Set other parameters\n",
    "eta = 1\n",
    "gamma = 1\n",
    "distance_relationship_type = \"exponential\"\n",
    "matching_relationship_type = \"exponential\""
   ]
  },
  {
   "cell_type": "code",
   "execution_count": null,
   "metadata": {},
   "outputs": [],
   "source": [
    "gmn = GenerativeNetworkModel(seed_adjacency_matrix = seed_adjacency_matrix,\n",
    "                distance_matrix = distance_matrix,\n",
    "                eta = eta,\n",
    "                gamma = gamma,\n",
    "                lambdah = 1,\n",
    "                distance_relationship_type = distance_relationship_type,\n",
    "                matching_relationship_type = matching_relationship_type,\n",
    "                alpha = 0.01, \n",
    "                optimisation_criterion_kwargs = {\"omega\":1},\n",
    "                optimisation_normalisation=False\n",
    ")"
   ]
  },
  {
   "cell_type": "code",
   "execution_count": null,
   "metadata": {},
   "outputs": [],
   "source": [
    "added_edges_list, adjacency_snapshot, weight_snapshots = gmn.train_loop(num_iterations = 10000, binary_updates_per_iteration=0, weighted_updates_per_iteration=1) "
   ]
  },
  {
   "cell_type": "code",
   "execution_count": null,
   "metadata": {},
   "outputs": [],
   "source": [
    "plt.figure(figsize=(5, 5))\n",
    "plt.imshow(gmn.adjacency_matrix.numpy())\n",
    "plt.title(\"Final adjacency matrix\")\n",
    "plt.show()"
   ]
  },
  {
   "cell_type": "code",
   "execution_count": null,
   "metadata": {},
   "outputs": [],
   "source": [
    "plt.figure(figsize=(5, 5))\n",
    "plt.imshow(gmn.weight_matrix.detach().numpy())\n",
    "plt.title(\"Final weight matrix\")\n",
    "plt.show()\n"
   ]
  },
  {
   "cell_type": "code",
   "execution_count": null,
   "metadata": {},
   "outputs": [],
   "source": [
    "W = gmn.weight_matrix.detach().numpy()\n",
    "W.max()"
   ]
  },
  {
   "cell_type": "code",
   "execution_count": null,
   "metadata": {},
   "outputs": [],
   "source": []
  }
 ],
 "metadata": {
  "kernelspec": {
   "display_name": "comp_neuro",
   "language": "python",
   "name": "python3"
  },
  "language_info": {
   "codemirror_mode": {
    "name": "ipython",
    "version": 3
   },
   "file_extension": ".py",
   "mimetype": "text/x-python",
   "name": "python",
   "nbconvert_exporter": "python",
   "pygments_lexer": "ipython3",
   "version": "3.12.7"
  }
 },
 "nbformat": 4,
 "nbformat_minor": 2
}
