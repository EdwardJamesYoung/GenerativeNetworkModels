{
 "cells": [
  {
   "cell_type": "code",
   "execution_count": 1,
   "metadata": {},
   "outputs": [
    {
     "name": "stdout",
     "output_type": "stream",
     "text": [
      "Optimisation criterion was unspecified. Defaulting to 'distance_weighted_communicability'.\n",
      "Weight lower bound was unspecified. Defaulting to 0.0.\n",
      "Weight upper bound was unspecified. Defaulting to infinity.\n"
     ]
    }
   ],
   "source": [
    "import sys\n",
    "sys.path.append('/path/to/GenerativeNetworkModels')\n",
    "\n",
    "\n",
    "import importlib\n",
    "import torch\n",
    "import matplotlib.pyplot as plt\n",
    "import numpy as np\n",
    "from tqdm.notebook import tqdm\n",
    "import GNM\n",
    "importlib.reload(GNM)\n",
    "from GNM import GenerativeNetworkModel\n",
    "\n",
    "import generative_rules\n",
    "importlib.reload(generative_rules)\n",
    "\n",
    "num_nodes = 100\n",
    "num_seed_edges = 250\n",
    "\n",
    "seed_adjacency_matrix = torch.zeros(num_nodes, num_nodes)\n",
    "# Randomly select seed edges\n",
    "seed_edge_indices = torch.randint(0, num_nodes, (num_seed_edges, 2))\n",
    "seed_adjacency_matrix[seed_edge_indices[:, 0], seed_edge_indices[:, 1]] = 1\n",
    "seed_adjacency_matrix[seed_edge_indices[:, 1], seed_edge_indices[:, 0]] = 1\n",
    "# Remove diagonals\n",
    "seed_adjacency_matrix.fill_diagonal_(0)\n",
    "\n",
    "# Set the distance matrix to all ones\n",
    "distance_matrix = torch.ones(num_nodes, num_nodes)\n",
    "distance_matrix.fill_diagonal_(0)\n",
    "\n",
    "# Set other parameters\n",
    "eta = 1\n",
    "gamma = 1\n",
    "distance_relationship_type = \"exponential\"\n",
    "matching_relationship_type = \"exponential\"\n",
    "\n",
    "gmn = GenerativeNetworkModel(seed_adjacency_matrix = seed_adjacency_matrix,\n",
    "                distance_matrix = distance_matrix,\n",
    "                eta = eta,\n",
    "                gamma = gamma,\n",
    "                lambdah = 1,\n",
    "                distance_relationship_type = distance_relationship_type,\n",
    "                matching_relationship_type = matching_relationship_type,\n",
    "                alpha = 0.01, \n",
    "                optimisation_criterion_kwargs = {\"omega\":1},\n",
    "                optimisation_normalisation=False\n",
    ")"
   ]
  },
  {
   "cell_type": "code",
   "execution_count": 3,
   "metadata": {},
   "outputs": [
    {
     "name": "stderr",
     "output_type": "stream",
     "text": [
      "100%|██████████| 1000/1000 [00:05<00:00, 198.96it/s]\n"
     ]
    },
    {
     "data": {
      "image/png": "[encoded data removed]",
      "text/plain": [
       "<Figure size 500x500 with 1 Axes>"
      ]
     },
     "metadata": {},
     "output_type": "display_data"
    }
   ],
   "source": [
    "added_edges_list, adjacency_snapshot, weight_snapshots = gmn.train_loop(num_iterations = 1000, binary_updates_per_iteration=0, weighted_updates_per_iteration=1)\n",
    "\n",
    "plt.figure(figsize=(5, 5))\n",
    "plt.imshow(gmn.adjacency_matrix.numpy())\n",
    "plt.title(\"Final adjacency matrix\")\n",
    "plt.show()"
   ]
  }
 ],
 "metadata": {
  "kernelspec": {
   "display_name": "Python 3",
   "language": "python",
   "name": "python3"
  },
  "language_info": {
   "codemirror_mode": {
    "name": "ipython",
    "version": 3
   },
   "file_extension": ".py",
   "mimetype": "text/x-python",
   "name": "python",
   "nbconvert_exporter": "python",
   "pygments_lexer": "ipython3",
   "version": "3.9.20"
  }
 },
 "nbformat": 4,
 "nbformat_minor": 2
}
